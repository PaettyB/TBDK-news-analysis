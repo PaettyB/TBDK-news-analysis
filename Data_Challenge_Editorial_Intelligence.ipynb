{
 "cells": [
  {
   "cell_type": "markdown",
   "id": "e907b7cc-0afa-4fac-95aa-42ba81d1c804",
   "metadata": {},
   "source": [
    "Data Challenge: Optimierung und Text-Mining mit Nachhaltigkeitsaspekten\n",
    "1. Einführung\n",
    "\n",
    "Willkommen zur Data Challenge!\n",
    "In dieser Challenge werden wir uns mit der Analyse von Nachrichtenartikeln beschäftigen, um herauszufinden, welche Merkmale die Online-Beliebtheit beeinflussen. Dabei kombinieren wir klassische Optimierungsmethoden und Text-Mining-Techniken. Gleichzeitig achten wir auf nachhaltige Datenverarbeitung und setzen ressourcenschonende Methoden ein.\n",
    "\n",
    "Ziele der Challenge:\n",
    "\n",
    "    Verständnis für Feature-Engineering und Machine-Learning-Workflows gewinnen.\n",
    "    Vergleichen, wie klassische Text-Mining-Methoden und moderne vortrainierte Modelle abschneiden.\n",
    "    Ein Bewusstsein für die Nachhaltigkeit in der Datenverarbeitung entwickeln.\n",
    "    Vorhersagen treffen und diese in einer überzeugenden Präsentation erklären.\n",
    "\n",
    "2. Aufgabenstellung\n",
    "\n",
    "Ihr erhaltet den Datensatz Online News Popularity Data Set, der Informationen über Nachrichtenartikel und deren Beliebtheit (Shares) enthält. Eure Aufgabe besteht darin, die folgenden Schritte durchzuführen:\n",
    "\n",
    "    Link:\n",
    "    https://www.kaggle.com/datasets/thehapyone/uci-online-news-popularity-data-set\n",
    "\n",
    "    Datenvorbereitung:\n",
    "        Analyse des Datensatzes.\n",
    "        Extraktion von Features aus den vorhandenen Texten und URL-Links (z. B. Web Scraping).\n",
    "\n",
    "    Feature-Engineering:\n",
    "        Extraktion textbasierter Features: Sentiment, Polarity, Subjectivity.\n",
    "        Identifikation weiterer relevanter Features, die die Shares beeinflussen könnten.\n",
    "\n",
    "    Modellierung:\n",
    "        Klassisches Clustering basierend auf den extrahierten Features.\n",
    "        Aufbau eines Modells, um die Shares vorherzusagen.\n",
    "        Bewertung der Feature Importance.\n",
    "\n",
    "    Nachhaltigkeit:\n",
    "        Diskutiert den Einfluss von ressourcenschonenden Methoden (z. B. Nutzung vortrainierter Modelle vs. einfache Machine-Learning-Verfahren).\n",
    "\n",
    "    Minimal Viable Product (MVP):\n",
    "        Vorhersage der Shares auf bereitgestellten Testdaten.\n",
    "        Präsentation der Ergebnisse und des Modells in Form von Slides oder Dokumenten.\n",
    "\n",
    "3. Einreichung\n",
    "\n",
    "Jede Gruppe reicht folgende Elemente ein:\n",
    "\n",
    "    Vorhersage-Datei: Eine CSV mit den Shares für die Testdaten.\n",
    "    Präsentation: Eine kurze Beschreibung des Ansatzes, der Ergebnisse und der Nachhaltigkeitsdiskussion.\n",
    "    Notebook: Die komplette Analyse in einem ausführbaren Jupyter Notebook.\n",
    "\n",
    "4. Bewertungskriterien\n",
    "\n",
    "    Genauigkeit der Vorhersagen: Wie gut passt das Modell auf die Testdaten?\n",
    "    Nachhaltigkeit: Reflektion über Ressourceneffizienz.\n",
    "    Innovationsgrad: Kreativität bei Feature-Engineering und Methodik.\n",
    "    Präsentation: Klarheit und Nachvollziehbarkeit der Ergebnisse.\n",
    "\n",
    "5. Zeitplan\n",
    "\n",
    "    Startdatum: [xx.xx.xxxx]\n",
    "    Abgabedatum: [xx.xx.xxxx]\n",
    "    Preisverleihung: [xx.xx.xxxx]\n",
    "\n",
    "6. Zusatzressourcen\n",
    "\n",
    "    Einführung in JupyterLab: https://jupyter.org/\n",
    "    Scikit-Learn Documentation: https://scikit-learn.org\n",
    "    TextBlob Documentation: https://textblob.readthedocs.io\n",
    "\n"
   ]
  },
  {
   "cell_type": "code",
   "execution_count": null,
   "id": "c9b4465b-a02c-4087-a42d-51c6f46b5a28",
   "metadata": {},
   "outputs": [],
   "source": []
  },
  {
   "cell_type": "code",
   "execution_count": null,
   "id": "483eab46-98e1-4fbe-8ff3-23fe03953e8d",
   "metadata": {},
   "outputs": [],
   "source": [
    "\"\"\"\"\n",
    "Schritt-für-Schritt-Anleitung\n",
    "\n",
    "A. Datenvorbereitung\n",
    "\n",
    "    Ladet den Datensatz herunter und untersucht ihn.\n",
    "    Webscraping: Extrahiert zusätzliche Features aus den URLs (z. B. Textinhalt, Meta-Tags).\n",
    "    Datenbereinigung: Überprüft auf fehlende oder fehlerhafte Werte und bereinigt den Datensatz entsprechend.\n",
    "\"\"\"\n"
   ]
  },
  {
   "cell_type": "code",
   "execution_count": null,
   "id": "7bca407a-5f37-49e1-933e-5f694b901948",
   "metadata": {},
   "outputs": [],
   "source": []
  },
  {
   "cell_type": "code",
   "execution_count": null,
   "id": "bbf2740d-ab60-4b93-ad9c-24eb8f53c36e",
   "metadata": {},
   "outputs": [],
   "source": [
    "\"\"\"\n",
    "B. Feature-Engineering\n",
    "\n",
    "    Nutzt Libraries wie TextBlob oder VADER für Sentimentanalyse.\n",
    "    Berechnet statistische Features wie Wortanzahl, Lesbarkeit, Schlüsselwörter.\n",
    "    Erstellt eigene Features, die aus anderen Daten abgeleitet werden können.\n",
    "\"\"\"\n"
   ]
  },
  {
   "cell_type": "code",
   "execution_count": null,
   "id": "5e275e13-25fc-412b-87f0-845709ec0741",
   "metadata": {},
   "outputs": [],
   "source": []
  },
  {
   "cell_type": "code",
   "execution_count": null,
   "id": "0b43fe2f-c33b-49cf-a170-6de3c29070a9",
   "metadata": {},
   "outputs": [],
   "source": [
    "\"\"\"\n",
    "C. Modellierung\n",
    "\n",
    "    Nutzt klassische ML-Algorithmen (z. B. RandomForest, GradientBoosting), um Shares vorherzusagen.\n",
    "    Vergleicht diese Modelle mit vortrainierten Ansätzen (z. B. Transformer-Modelle über API).\n",
    "\"\"\"\n"
   ]
  },
  {
   "cell_type": "code",
   "execution_count": null,
   "id": "c67bea51-51c0-47cf-b2f6-d8daa4a7f076",
   "metadata": {},
   "outputs": [],
   "source": []
  },
  {
   "cell_type": "code",
   "execution_count": null,
   "id": "96dd656a-f8d4-41a3-b4db-06bac99d7e33",
   "metadata": {},
   "outputs": [],
   "source": [
    "\"\"\"\n",
    "D. Nachhaltigkeit\n",
    "\n",
    "    Diskutiert den Ressourcenverbrauch eurer Modelle.\n",
    "    Vergleicht klassische und moderne Ansätze hinsichtlich Energieverbrauch und Genauigkeit.\n",
    "\"\"\""
   ]
  },
  {
   "cell_type": "code",
   "execution_count": null,
   "id": "df096d53-abc0-430b-800d-c4bbaf306c06",
   "metadata": {},
   "outputs": [],
   "source": []
  }
 ],
 "metadata": {
  "kernelspec": {
   "display_name": "Python 3 (ipykernel)",
   "language": "python",
   "name": "python3"
  },
  "language_info": {
   "codemirror_mode": {
    "name": "ipython",
    "version": 3
   },
   "file_extension": ".py",
   "mimetype": "text/x-python",
   "name": "python",
   "nbconvert_exporter": "python",
   "pygments_lexer": "ipython3",
   "version": "3.11.9"
  }
 },
 "nbformat": 4,
 "nbformat_minor": 5
}
